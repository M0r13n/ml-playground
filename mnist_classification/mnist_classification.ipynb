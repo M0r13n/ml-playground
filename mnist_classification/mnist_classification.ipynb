{
 "cells": [
  {
   "cell_type": "markdown",
   "id": "f82cd4c1-bb15-4396-822c-189c873fb7e0",
   "metadata": {},
   "source": [
    "# Handwritten number classification\n",
    "\n",
    "This exercise uses ML algorithms to classify handwritten numbers. This exercise uses the popular MNIST dataset."
   ]
  },
  {
   "cell_type": "code",
   "execution_count": 1,
   "id": "a88c11d4-c17f-425d-ae35-53e04b685c00",
   "metadata": {},
   "outputs": [],
   "source": [
    "# The sklearn package has some useful methods to fetch many different datasets.\n",
    "# By default, these are stored in $HOME/scikit_learn_data/\n",
    "from sklearn.datasets import fetch_openml\n",
    "\n",
    "mnist = fetch_openml('mnist_784', parser='auto')\n"
   ]
  },
  {
   "cell_type": "code",
   "execution_count": 2,
   "id": "6e9319cb-cd9e-4a58-8a85-1f085683b2bd",
   "metadata": {},
   "outputs": [
    {
     "name": "stdout",
     "output_type": "stream",
     "text": [
      "**Author**: Yann LeCun, Corinna Cortes, Christopher J.C. Burges  \n",
      "**Source**: [MNIST Website](http://yann.lecun.com/exdb/mnist/) - Date unknown  \n",
      "**Please cite**:  \n",
      "\n",
      "The MNIST database of handwritten digits with 784 features, raw data available at: http://yann.lecun.com/exdb/mnist/. It can be split in a training set of the first 60,000 examples, and a test set of 10,000 examples  \n",
      "\n",
      "It is a subset of a larger set available from NIST. The digits have been size-normalized and centered in a fixed-size image. It is a good database for people who want to try learning techniques and pattern recognition methods on real-world data while spending minimal efforts on preprocessing and formatting. The original black and white (bilevel) images from NIST were size normalized to fit in a 20x20 pixel box while preserving their aspect ratio. The resulting images contain grey levels as a result of the anti-aliasing technique used by the normalization algorithm. the images were centered in a 28x28 image by computing the center of mass of the pixels, and translating the image so as to position this point at the center of the 28x28 field.  \n",
      "\n",
      "With some classification methods (particularly template-based methods, such as SVM and K-nearest neighbors), the error rate improves when the digits are centered by bounding box rather than center of mass. If you do this kind of pre-processing, you should report it in your publications. The MNIST database was constructed from NIST's NIST originally designated SD-3 as their training set and SD-1 as their test set. However, SD-3 is much cleaner and easier to recognize than SD-1. The reason for this can be found on the fact that SD-3 was collected among Census Bureau employees, while SD-1 was collected among high-school students. Drawing sensible conclusions from learning experiments requires that the result be independent of the choice of training set and test among the complete set of samples. Therefore it was necessary to build a new database by mixing NIST's datasets.  \n",
      "\n",
      "The MNIST training set is composed of 30,000 patterns from SD-3 and 30,000 patterns from SD-1. Our test set was composed of 5,000 patterns from SD-3 and 5,000 patterns from SD-1. The 60,000 pattern training set contained examples from approximately 250 writers. We made sure that the sets of writers of the training set and test set were disjoint. SD-1 contains 58,527 digit images written by 500 different writers. In contrast to SD-3, where blocks of data from each writer appeared in sequence, the data in SD-1 is scrambled. Writer identities for SD-1 is available and we used this information to unscramble the writers. We then split SD-1 in two: characters written by the first 250 writers went into our new training set. The remaining 250 writers were placed in our test set. Thus we had two sets with nearly 30,000 examples each. The new training set was completed with enough examples from SD-3, starting at pattern # 0, to make a full set of 60,000 training patterns. Similarly, the new test set was completed with SD-3 examples starting at pattern # 35,000 to make a full set with 60,000 test patterns. Only a subset of 10,000 test images (5,000 from SD-1 and 5,000 from SD-3) is available on this site. The full 60,000 sample training set is available.\n",
      "\n",
      "Downloaded from openml.org.\n"
     ]
    }
   ],
   "source": [
    "print(mnist.DESCR)"
   ]
  },
  {
   "cell_type": "code",
   "execution_count": 3,
   "id": "36b8a6d9-d37b-4331-8434-46e14ff6205b",
   "metadata": {},
   "outputs": [
    {
     "data": {
      "text/plain": [
       "{'id': '554',\n",
       " 'name': 'mnist_784',\n",
       " 'version': '1',\n",
       " 'description_version': '1',\n",
       " 'format': 'ARFF',\n",
       " 'creator': ['Yann LeCun', 'Corinna Cortes', 'Christopher J.C. Burges'],\n",
       " 'upload_date': '2014-09-29T03:28:38',\n",
       " 'language': 'English',\n",
       " 'licence': 'Public',\n",
       " 'url': 'https://api.openml.org/data/v1/download/52667/mnist_784.arff',\n",
       " 'parquet_url': 'http://openml1.win.tue.nl/dataset554/dataset_554.pq',\n",
       " 'file_id': '52667',\n",
       " 'default_target_attribute': 'class',\n",
       " 'tag': ['AzurePilot',\n",
       "  'OpenML-CC18',\n",
       "  'OpenML100',\n",
       "  'study_1',\n",
       "  'study_123',\n",
       "  'study_41',\n",
       "  'study_99',\n",
       "  'vision'],\n",
       " 'visibility': 'public',\n",
       " 'minio_url': 'http://openml1.win.tue.nl/dataset554/dataset_554.pq',\n",
       " 'status': 'active',\n",
       " 'processing_date': '2020-11-20 20:12:09',\n",
       " 'md5_checksum': '0298d579eb1b86163de7723944c7e495'}"
      ]
     },
     "execution_count": 3,
     "metadata": {},
     "output_type": "execute_result"
    }
   ],
   "source": [
    "mnist.details"
   ]
  },
  {
   "cell_type": "code",
   "execution_count": 4,
   "id": "1075726c-00b8-4972-8aa4-2781a2638ed1",
   "metadata": {},
   "outputs": [],
   "source": [
    "X,Y = mnist.data, mnist.target"
   ]
  },
  {
   "cell_type": "code",
   "execution_count": 5,
   "id": "8b9c1b30-ef71-467c-a0e3-469c5347b90d",
   "metadata": {},
   "outputs": [
    {
     "data": {
      "text/plain": [
       "(70000, 784)"
      ]
     },
     "execution_count": 5,
     "metadata": {},
     "output_type": "execute_result"
    }
   ],
   "source": [
    "# This is the data.\n",
    "# One row per instance and one column per feature.\n",
    "X.shape"
   ]
  },
  {
   "cell_type": "markdown",
   "id": "06c0cc57-bdac-4079-81c2-7c2cf6435b13",
   "metadata": {},
   "source": [
    "- there are 70k images with 784 pixels each\n",
    "- $28 \\times 28 = 784$ pixels\n",
    "- resolution = 28x28 pixels"
   ]
  },
  {
   "cell_type": "code",
   "execution_count": 6,
   "id": "90f28702-54d0-4fb2-b8a2-db984a3bab12",
   "metadata": {},
   "outputs": [
    {
     "data": {
      "text/plain": [
       "(70000,)"
      ]
     },
     "execution_count": 6,
     "metadata": {},
     "output_type": "execute_result"
    }
   ],
   "source": [
    "Y.shape"
   ]
  },
  {
   "cell_type": "markdown",
   "id": "e2568306-49d9-4e13-b747-ff22637dde87",
   "metadata": {},
   "source": [
    "- the `target` attribute contains an array on labels\n",
    "- it has the same number of rows"
   ]
  },
  {
   "cell_type": "code",
   "execution_count": 7,
   "id": "79abe174-3709-4c0e-a4db-28f892aa4050",
   "metadata": {},
   "outputs": [
    {
     "data": {
      "text/plain": [
       "<matplotlib.image.AxesImage at 0x7f4f93acd5a0>"
      ]
     },
     "execution_count": 7,
     "metadata": {},
     "output_type": "execute_result"
    },
    {
     "data": {
      "image/png": "[encoded data removed]",
      "text/plain": [
       "<Figure size 640x480 with 1 Axes>"
      ]
     },
     "metadata": {},
     "output_type": "display_data"
    }
   ],
   "source": [
    "import matplotlib\n",
    "import matplotlib.pyplot as plt\n",
    "import numpy as np\n",
    "\n",
    "digit = np.array(X.iloc[12345]).reshape(28, 28)\n",
    "\n",
    "plt.imshow(digit, cmap=matplotlib.cm.binary)"
   ]
  },
  {
   "cell_type": "markdown",
   "id": "60921693-c176-45da-b3f7-4222bbcb7e38",
   "metadata": {},
   "source": [
    "# Split test and validation data\n",
    "\n",
    "Its important to split the data into a test and a training dataset. The first 60k images will ne used for training and the last 10k for validation."
   ]
  },
  {
   "cell_type": "code",
   "execution_count": 8,
   "id": "76302b06-f5dd-4035-b48c-8804df78699f",
   "metadata": {},
   "outputs": [],
   "source": [
    "X_train, X_validation = X.iloc[:60_000], X.iloc[60_000:]\n",
    "Y_train, Y_validation = Y.iloc[:60_000], Y.iloc[60_000:]\n",
    "\n",
    "# Delete the old datasets in order to prevent me from using them accidentally\n",
    "del X, Y"
   ]
  },
  {
   "cell_type": "code",
   "execution_count": 9,
   "id": "17de0b4a-90f1-41e1-ba8d-d9ff040bd940",
   "metadata": {},
   "outputs": [
    {
     "name": "stdout",
     "output_type": "stream",
     "text": [
      "Index 0: 5\n",
      "Index 500: 3\n",
      "Index 1000: 0\n",
      "Index 1500: 9\n",
      "Index 2000: 5\n",
      "Index 2500: 0\n",
      "Index 3000: 9\n",
      "Index 3500: 5\n",
      "Index 4000: 7\n",
      "Index 4500: 0\n",
      "Index 5000: 7\n",
      "Index 5500: 1\n",
      "Index 6000: 6\n",
      "Index 6500: 3\n",
      "Index 7000: 8\n",
      "Index 7500: 2\n",
      "Index 8000: 0\n",
      "Index 8500: 6\n",
      "Index 9000: 6\n",
      "Index 9500: 6\n",
      "Index 10000: 3\n",
      "Index 10500: 1\n",
      "Index 11000: 6\n",
      "Index 11500: 5\n",
      "Index 12000: 7\n",
      "Index 12500: 0\n",
      "Index 13000: 7\n",
      "Index 13500: 4\n",
      "Index 14000: 1\n",
      "Index 14500: 6\n",
      "Index 15000: 5\n",
      "Index 15500: 6\n",
      "Index 16000: 8\n",
      "Index 16500: 8\n",
      "Index 17000: 3\n",
      "Index 17500: 2\n",
      "Index 18000: 4\n",
      "Index 18500: 9\n",
      "Index 19000: 8\n",
      "Index 19500: 3\n",
      "Index 20000: 5\n",
      "Index 20500: 3\n",
      "Index 21000: 7\n",
      "Index 21500: 4\n",
      "Index 22000: 3\n",
      "Index 22500: 2\n",
      "Index 23000: 7\n",
      "Index 23500: 6\n",
      "Index 24000: 8\n",
      "Index 24500: 7\n",
      "Index 25000: 3\n",
      "Index 25500: 7\n",
      "Index 26000: 4\n",
      "Index 26500: 7\n",
      "Index 27000: 5\n",
      "Index 27500: 5\n",
      "Index 28000: 1\n",
      "Index 28500: 4\n",
      "Index 29000: 2\n",
      "Index 29500: 2\n",
      "Index 30000: 3\n",
      "Index 30500: 9\n",
      "Index 31000: 6\n",
      "Index 31500: 6\n",
      "Index 32000: 8\n",
      "Index 32500: 6\n",
      "Index 33000: 3\n",
      "Index 33500: 3\n",
      "Index 34000: 4\n",
      "Index 34500: 8\n",
      "Index 35000: 1\n",
      "Index 35500: 5\n",
      "Index 36000: 9\n",
      "Index 36500: 9\n",
      "Index 37000: 4\n",
      "Index 37500: 7\n",
      "Index 38000: 8\n",
      "Index 38500: 4\n",
      "Index 39000: 9\n",
      "Index 39500: 7\n",
      "Index 40000: 7\n",
      "Index 40500: 7\n",
      "Index 41000: 5\n",
      "Index 41500: 6\n",
      "Index 42000: 1\n",
      "Index 42500: 9\n",
      "Index 43000: 9\n",
      "Index 43500: 1\n",
      "Index 44000: 0\n",
      "Index 44500: 7\n",
      "Index 45000: 3\n",
      "Index 45500: 2\n",
      "Index 46000: 9\n",
      "Index 46500: 3\n",
      "Index 47000: 0\n",
      "Index 47500: 4\n",
      "Index 48000: 4\n",
      "Index 48500: 3\n",
      "Index 49000: 4\n",
      "Index 49500: 0\n",
      "Index 50000: 3\n",
      "Index 50500: 3\n",
      "Index 51000: 7\n",
      "Index 51500: 7\n",
      "Index 52000: 6\n",
      "Index 52500: 9\n",
      "Index 53000: 5\n",
      "Index 53500: 2\n",
      "Index 54000: 5\n",
      "Index 54500: 5\n",
      "Index 55000: 1\n",
      "Index 55500: 1\n",
      "Index 56000: 1\n",
      "Index 56500: 7\n",
      "Index 57000: 0\n",
      "Index 57500: 2\n",
      "Index 58000: 2\n",
      "Index 58500: 0\n",
      "Index 59000: 6\n",
      "Index 59500: 3\n"
     ]
    }
   ],
   "source": [
    "# The numbers are unordered\n",
    "for index in range(0, len(Y_train), 500):\n",
    "    print(f'Index {index}: {Y_train.iloc[index]}')"
   ]
  },
  {
   "cell_type": "markdown",
   "id": "0fa37163-52d6-43c9-9c0d-3a4beb94b42c",
   "metadata": {},
   "source": [
    "# Multiclass Classification\n",
    "\n",
    "- **binary classifiers** (SGD) can distinguish two classes (e.g. 7 or 3)\n",
    "- **multiclass classifiers** can distinguish multiple classes\n",
    "- the **one-versus-all** strategy means to use **N** binary classifiers for this purpose\n",
    "  - for 10 numbers train 10 binary classifiers -> one for each number\n",
    "  - then for each number compute the decision score for each classifier\n",
    "  - finally, select the class with the highest score "
   ]
  },
  {
   "cell_type": "code",
   "execution_count": 10,
   "id": "4a7c9b67-df78-4ffc-b8f4-0fd8823459e3",
   "metadata": {},
   "outputs": [
    {
     "data": {
      "text/html": [
       "<style>#sk-container-id-1 {color: black;}#sk-container-id-1 pre{padding: 0;}#sk-container-id-1 div.sk-toggleable {background-color: white;}#sk-container-id-1 label.sk-toggleable__label {cursor: pointer;display: block;width: 100%;margin-bottom: 0;padding: 0.3em;box-sizing: border-box;text-align: center;}#sk-container-id-1 label.sk-toggleable__label-arrow:before {content: \"▸\";float: left;margin-right: 0.25em;color: #696969;}#sk-container-id-1 label.sk-toggleable__label-arrow:hover:before {color: black;}#sk-container-id-1 div.sk-estimator:hover label.sk-toggleable__label-arrow:before {color: black;}#sk-container-id-1 div.sk-toggleable__content {max-height: 0;max-width: 0;overflow: hidden;text-align: left;background-color: #f0f8ff;}#sk-container-id-1 div.sk-toggleable__content pre {margin: 0.2em;color: black;border-radius: 0.25em;background-color: #f0f8ff;}#sk-container-id-1 input.sk-toggleable__control:checked~div.sk-toggleable__content {max-height: 200px;max-width: 100%;overflow: auto;}#sk-container-id-1 input.sk-toggleable__control:checked~label.sk-toggleable__label-arrow:before {content: \"▾\";}#sk-container-id-1 div.sk-estimator input.sk-toggleable__control:checked~label.sk-toggleable__label {background-color: #d4ebff;}#sk-container-id-1 div.sk-label input.sk-toggleable__control:checked~label.sk-toggleable__label {background-color: #d4ebff;}#sk-container-id-1 input.sk-hidden--visually {border: 0;clip: rect(1px 1px 1px 1px);clip: rect(1px, 1px, 1px, 1px);height: 1px;margin: -1px;overflow: hidden;padding: 0;position: absolute;width: 1px;}#sk-container-id-1 div.sk-estimator {font-family: monospace;background-color: #f0f8ff;border: 1px dotted black;border-radius: 0.25em;box-sizing: border-box;margin-bottom: 0.5em;}#sk-container-id-1 div.sk-estimator:hover {background-color: #d4ebff;}#sk-container-id-1 div.sk-parallel-item::after {content: \"\";width: 100%;border-bottom: 1px solid gray;flex-grow: 1;}#sk-container-id-1 div.sk-label:hover label.sk-toggleable__label {background-color: #d4ebff;}#sk-container-id-1 div.sk-serial::before {content: \"\";position: absolute;border-left: 1px solid gray;box-sizing: border-box;top: 0;bottom: 0;left: 50%;z-index: 0;}#sk-container-id-1 div.sk-serial {display: flex;flex-direction: column;align-items: center;background-color: white;padding-right: 0.2em;padding-left: 0.2em;position: relative;}#sk-container-id-1 div.sk-item {position: relative;z-index: 1;}#sk-container-id-1 div.sk-parallel {display: flex;align-items: stretch;justify-content: center;background-color: white;position: relative;}#sk-container-id-1 div.sk-item::before, #sk-container-id-1 div.sk-parallel-item::before {content: \"\";position: absolute;border-left: 1px solid gray;box-sizing: border-box;top: 0;bottom: 0;left: 50%;z-index: -1;}#sk-container-id-1 div.sk-parallel-item {display: flex;flex-direction: column;z-index: 1;position: relative;background-color: white;}#sk-container-id-1 div.sk-parallel-item:first-child::after {align-self: flex-end;width: 50%;}#sk-container-id-1 div.sk-parallel-item:last-child::after {align-self: flex-start;width: 50%;}#sk-container-id-1 div.sk-parallel-item:only-child::after {width: 0;}#sk-container-id-1 div.sk-dashed-wrapped {border: 1px dashed gray;margin: 0 0.4em 0.5em 0.4em;box-sizing: border-box;padding-bottom: 0.4em;background-color: white;}#sk-container-id-1 div.sk-label label {font-family: monospace;font-weight: bold;display: inline-block;line-height: 1.2em;}#sk-container-id-1 div.sk-label-container {text-align: center;}#sk-container-id-1 div.sk-container {/* jupyter's `normalize.less` sets `[hidden] { display: none; }` but bootstrap.min.css set `[hidden] { display: none !important; }` so we also need the `!important` here to be able to override the default hidden behavior on the sphinx rendered scikit-learn.org. See: https://github.com/scikit-learn/scikit-learn/issues/21755 */display: inline-block !important;position: relative;}#sk-container-id-1 div.sk-text-repr-fallback {display: none;}</style><div id=\"sk-container-id-1\" class=\"sk-top-container\"><div class=\"sk-text-repr-fallback\"><pre>SGDClassifier(random_state=42)</pre><b>In a Jupyter environment, please rerun this cell to show the HTML representation or trust the notebook. <br />On GitHub, the HTML representation is unable to render, please try loading this page with nbviewer.org.</b></div><div class=\"sk-container\" hidden><div class=\"sk-item\"><div class=\"sk-estimator sk-toggleable\"><input class=\"sk-toggleable__control sk-hidden--visually\" id=\"sk-estimator-id-1\" type=\"checkbox\" checked><label for=\"sk-estimator-id-1\" class=\"sk-toggleable__label sk-toggleable__label-arrow\">SGDClassifier</label><div class=\"sk-toggleable__content\"><pre>SGDClassifier(random_state=42)</pre></div></div></div></div></div>"
      ],
      "text/plain": [
       "SGDClassifier(random_state=42)"
      ]
     },
     "execution_count": 10,
     "metadata": {},
     "output_type": "execute_result"
    }
   ],
   "source": [
    "from sklearn.linear_model import SGDClassifier\n",
    "\n",
    "# Create an instance of the SGDClassifier\n",
    "clf = SGDClassifier(random_state=42)\n",
    "\n",
    "# Train the classifier on the training data.\n",
    "# Scikit automaitcally detects that I want to perform multiclass classification.\n",
    "# The selects one-versus-all strategy by default\n",
    "clf.fit(X_train.values, Y_train)"
   ]
  },
  {
   "cell_type": "code",
   "execution_count": 11,
   "id": "dc3c90ef-dc35-4308-8e07-bb0eb8d950a4",
   "metadata": {},
   "outputs": [
    {
     "name": "stdout",
     "output_type": "stream",
     "text": [
      "The model predicts: 1\n",
      "The actual label is: 1\n"
     ]
    }
   ],
   "source": [
    "import random\n",
    "\n",
    "random_index = random.choice(X_train.index)\n",
    "random_digit = X_train.loc[random_index]\n",
    "random_digit_label = Y_train.iloc[random_index]\n",
    "\n",
    "print(f'The model predicts: {clf.predict([random_digit])[0]}')\n",
    "print(f'The actual label is: {random_digit_label}')\n"
   ]
  },
  {
   "cell_type": "markdown",
   "id": "278eb449-4723-4e4a-86b1-a1730a769b4d",
   "metadata": {},
   "source": [
    "Under the hood the classifier above trained ten binary classifiers. One for each number 0-9. Then it computes the decision scores for each classifier and selects the maximum.\n",
    "\n",
    "This can be shown by calling `.decision_function()` instead of `.predict()`. This method returns the scores for all classifiers."
   ]
  },
  {
   "cell_type": "code",
   "execution_count": 12,
   "id": "991472db-f13c-4992-a141-f509dedc9885",
   "metadata": {},
   "outputs": [
    {
     "data": {
      "text/plain": [
       "array([[-56564.39939804,  11770.5348058 ,  -5959.51606184,\n",
       "           320.87116003,  -9030.76209552,  -4090.43128662,\n",
       "         -5221.76959532, -13521.77270286,   -249.61173198,\n",
       "         -4374.4406201 ]])"
      ]
     },
     "execution_count": 12,
     "metadata": {},
     "output_type": "execute_result"
    }
   ],
   "source": [
    "clf.decision_function([random_digit])"
   ]
  },
  {
   "cell_type": "markdown",
   "id": "ed2f8293-4a8d-4468-a9bf-e7f595e128ac",
   "metadata": {},
   "source": [
    "## Accuracy\n",
    "\n",
    "Using **cross validation** I can assess the performance of a **predictive model**. <mark>It involves dividing the dataset into multiple subsets, training the model on some of these subsets, and testing it on others.</mark>\n",
    "\n",
    "KFold is a type of cross-validation where the dataset is divided into 'k' subsets or folds. The model is trained and tested 'k' times, each time using a different fold as the test set and the remaining folds as the training set. It helps to ensure that each data point is used for both training and testing at least once.\n",
    "\n",
    "StratifiedKFold is a variation of KFold that ensures that the class distribution in the original dataset is preserved in each fold.\n",
    "This is particularly important when dealing with imbalanced datasets where one class is much more frequent than the others.\n",
    "\n",
    "The latter is important. \n"
   ]
  },
  {
   "cell_type": "code",
   "execution_count": 16,
   "id": "c803152f-ffbf-42c0-ac34-d25779a27298",
   "metadata": {},
   "outputs": [],
   "source": [
    "from sklearn.base import clone\n",
    "from sklearn.metrics import accuracy_score\n",
    "from sklearn.model_selection import StratifiedKFold\n",
    "\n",
    "def cross_val(X, y, classifier):\n",
    "    # n_splits=3: how many times the dataset is split into training and testing sets\n",
    "    skfold = StratifiedKFold(n_splits=3, random_state=1337, shuffle=True)\n",
    "    \n",
    "    accuracies = []\n",
    "\n",
    "    for fold, (train_indices, test_indices) in enumerate(skfold.split(X, y)):\n",
    "        # Split the test data\n",
    "        X_train_folds, X_test_folds = X[train_indices], X[test_indices]\n",
    "        y_train_folds, y_test_folds = y[train_indices], y[test_indices]\n",
    "    \n",
    "        # Clone the classifier that was passed\n",
    "        clone_clf = clone(classifier)\n",
    "        clone_clf.fit(X_train_folds, y_train_folds)\n",
    "    \n",
    "        # Make predictions on the test data\n",
    "        y_pred_folds = classifier.predict(X_test_folds)\n",
    "    \n",
    "        # Calculate accuracy for this fold and store it\n",
    "        accuracy = accuracy_score(y_test_folds, y_pred_folds)\n",
    "        accuracies.append(accuracy)\n",
    "    \n",
    "        print(f\"Fold {fold+1}: Accuracy = {accuracy:.2f}\")\n",
    "\n",
    "    # Calculate the average accuracy across all folds\n",
    "    average_accuracy = np.mean(accuracies)\n",
    "    print(f\"Average Accuracy: {average_accuracy:.2f}\")\n"
   ]
  },
  {
   "cell_type": "code",
   "execution_count": 17,
   "id": "1181881c-49c6-4ccd-b2a4-8670c233b90c",
   "metadata": {},
   "outputs": [
    {
     "name": "stdout",
     "output_type": "stream",
     "text": [
      "Fold 1: Accuracy = 0.88\n",
      "Fold 2: Accuracy = 0.88\n",
      "Fold 3: Accuracy = 0.88\n",
      "Average Accuracy: 0.88\n"
     ]
    }
   ],
   "source": [
    "cross_val(X_train.values, Y_train, clf)"
   ]
  },
  {
   "cell_type": "code",
   "execution_count": null,
   "id": "29ebc6a0-0a2f-4be4-b534-54a907568c52",
   "metadata": {},
   "outputs": [],
   "source": [
    "from sklearn.model_selection import cross_val_score\n",
    "cross_val_score(clf, X_train.values, Y_train, cv=3, scoring='accuracy')"
   ]
  },
  {
   "cell_type": "code",
   "execution_count": null,
   "id": "2e78b36f-465f-4f5e-9057-d4c827395529",
   "metadata": {},
   "outputs": [],
   "source": []
  }
 ],
 "metadata": {
  "kernelspec": {
   "display_name": "Python 3 (ipykernel)",
   "language": "python",
   "name": "python3"
  },
  "language_info": {
   "codemirror_mode": {
    "name": "ipython",
    "version": 3
   },
   "file_extension": ".py",
   "mimetype": "text/x-python",
   "name": "python",
   "nbconvert_exporter": "python",
   "pygments_lexer": "ipython3",
   "version": "3.10.12"
  }
 },
 "nbformat": 4,
 "nbformat_minor": 5
}
