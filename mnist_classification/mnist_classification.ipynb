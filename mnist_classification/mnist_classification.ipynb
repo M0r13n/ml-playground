{
 "cells": [
  {
   "cell_type": "markdown",
   "id": "f82cd4c1-bb15-4396-822c-189c873fb7e0",
   "metadata": {},
   "source": [
    "# Handwritten number classification\n",
    "\n",
    "This exercise uses ML algorithms to classify handwritten numbers. This exercise uses the popular MNIST dataset."
   ]
  },
  {
   "cell_type": "code",
   "execution_count": 3,
   "id": "a88c11d4-c17f-425d-ae35-53e04b685c00",
   "metadata": {},
   "outputs": [],
   "source": [
    "# The sklearn package has some useful methods to fetch many different datasets.\n",
    "# By default, these are stored in $HOME/scikit_learn_data/\n",
    "from sklearn.datasets import fetch_openml\n",
    "\n",
    "mnist = fetch_openml('mnist_784', parser='auto')\n"
   ]
  },
  {
   "cell_type": "code",
   "execution_count": 13,
   "id": "6e9319cb-cd9e-4a58-8a85-1f085683b2bd",
   "metadata": {},
   "outputs": [
    {
     "name": "stdout",
     "output_type": "stream",
     "text": [
      "**Author**: Yann LeCun, Corinna Cortes, Christopher J.C. Burges  \n",
      "**Source**: [MNIST Website](http://yann.lecun.com/exdb/mnist/) - Date unknown  \n",
      "**Please cite**:  \n",
      "\n",
      "The MNIST database of handwritten digits with 784 features, raw data available at: http://yann.lecun.com/exdb/mnist/. It can be split in a training set of the first 60,000 examples, and a test set of 10,000 examples  \n",
      "\n",
      "It is a subset of a larger set available from NIST. The digits have been size-normalized and centered in a fixed-size image. It is a good database for people who want to try learning techniques and pattern recognition methods on real-world data while spending minimal efforts on preprocessing and formatting. The original black and white (bilevel) images from NIST were size normalized to fit in a 20x20 pixel box while preserving their aspect ratio. The resulting images contain grey levels as a result of the anti-aliasing technique used by the normalization algorithm. the images were centered in a 28x28 image by computing the center of mass of the pixels, and translating the image so as to position this point at the center of the 28x28 field.  \n",
      "\n",
      "With some classification methods (particularly template-based methods, such as SVM and K-nearest neighbors), the error rate improves when the digits are centered by bounding box rather than center of mass. If you do this kind of pre-processing, you should report it in your publications. The MNIST database was constructed from NIST's NIST originally designated SD-3 as their training set and SD-1 as their test set. However, SD-3 is much cleaner and easier to recognize than SD-1. The reason for this can be found on the fact that SD-3 was collected among Census Bureau employees, while SD-1 was collected among high-school students. Drawing sensible conclusions from learning experiments requires that the result be independent of the choice of training set and test among the complete set of samples. Therefore it was necessary to build a new database by mixing NIST's datasets.  \n",
      "\n",
      "The MNIST training set is composed of 30,000 patterns from SD-3 and 30,000 patterns from SD-1. Our test set was composed of 5,000 patterns from SD-3 and 5,000 patterns from SD-1. The 60,000 pattern training set contained examples from approximately 250 writers. We made sure that the sets of writers of the training set and test set were disjoint. SD-1 contains 58,527 digit images written by 500 different writers. In contrast to SD-3, where blocks of data from each writer appeared in sequence, the data in SD-1 is scrambled. Writer identities for SD-1 is available and we used this information to unscramble the writers. We then split SD-1 in two: characters written by the first 250 writers went into our new training set. The remaining 250 writers were placed in our test set. Thus we had two sets with nearly 30,000 examples each. The new training set was completed with enough examples from SD-3, starting at pattern # 0, to make a full set of 60,000 training patterns. Similarly, the new test set was completed with SD-3 examples starting at pattern # 35,000 to make a full set with 60,000 test patterns. Only a subset of 10,000 test images (5,000 from SD-1 and 5,000 from SD-3) is available on this site. The full 60,000 sample training set is available.\n",
      "\n",
      "Downloaded from openml.org.\n"
     ]
    }
   ],
   "source": [
    "print(mnist.DESCR)"
   ]
  },
  {
   "cell_type": "code",
   "execution_count": 14,
   "id": "36b8a6d9-d37b-4331-8434-46e14ff6205b",
   "metadata": {},
   "outputs": [
    {
     "data": {
      "text/plain": [
       "{'id': '554',\n",
       " 'name': 'mnist_784',\n",
       " 'version': '1',\n",
       " 'description_version': '1',\n",
       " 'format': 'ARFF',\n",
       " 'creator': ['Yann LeCun', 'Corinna Cortes', 'Christopher J.C. Burges'],\n",
       " 'upload_date': '2014-09-29T03:28:38',\n",
       " 'language': 'English',\n",
       " 'licence': 'Public',\n",
       " 'url': 'https://api.openml.org/data/v1/download/52667/mnist_784.arff',\n",
       " 'parquet_url': 'http://openml1.win.tue.nl/dataset554/dataset_554.pq',\n",
       " 'file_id': '52667',\n",
       " 'default_target_attribute': 'class',\n",
       " 'tag': ['AzurePilot',\n",
       "  'OpenML-CC18',\n",
       "  'OpenML100',\n",
       "  'study_1',\n",
       "  'study_123',\n",
       "  'study_41',\n",
       "  'study_99',\n",
       "  'vision'],\n",
       " 'visibility': 'public',\n",
       " 'minio_url': 'http://openml1.win.tue.nl/dataset554/dataset_554.pq',\n",
       " 'status': 'active',\n",
       " 'processing_date': '2020-11-20 20:12:09',\n",
       " 'md5_checksum': '0298d579eb1b86163de7723944c7e495'}"
      ]
     },
     "execution_count": 14,
     "metadata": {},
     "output_type": "execute_result"
    }
   ],
   "source": [
    "mnist.details"
   ]
  },
  {
   "cell_type": "code",
   "execution_count": 30,
   "id": "1075726c-00b8-4972-8aa4-2781a2638ed1",
   "metadata": {},
   "outputs": [],
   "source": [
    "X,Y = mnist.data, mnist.target"
   ]
  },
  {
   "cell_type": "code",
   "execution_count": 21,
   "id": "8b9c1b30-ef71-467c-a0e3-469c5347b90d",
   "metadata": {},
   "outputs": [
    {
     "data": {
      "text/plain": [
       "(70000, 784)"
      ]
     },
     "execution_count": 21,
     "metadata": {},
     "output_type": "execute_result"
    }
   ],
   "source": [
    "# This is the data.\n",
    "# One row per instance and one column per feature.\n",
    "X.shape"
   ]
  },
  {
   "cell_type": "markdown",
   "id": "06c0cc57-bdac-4079-81c2-7c2cf6435b13",
   "metadata": {},
   "source": [
    "- there are 70k images with 784 pixels each\n",
    "- $28 \\times 28 = 784$ pixels\n",
    "- resolution = 28x28 pixels"
   ]
  },
  {
   "cell_type": "code",
   "execution_count": 22,
   "id": "90f28702-54d0-4fb2-b8a2-db984a3bab12",
   "metadata": {},
   "outputs": [
    {
     "data": {
      "text/plain": [
       "(70000,)"
      ]
     },
     "execution_count": 22,
     "metadata": {},
     "output_type": "execute_result"
    }
   ],
   "source": [
    "Y.shape"
   ]
  },
  {
   "cell_type": "markdown",
   "id": "e2568306-49d9-4e13-b747-ff22637dde87",
   "metadata": {},
   "source": [
    "- the `target` attribute contains an array on labels\n",
    "- it has the same number of rows"
   ]
  },
  {
   "cell_type": "code",
   "execution_count": 40,
   "id": "79abe174-3709-4c0e-a4db-28f892aa4050",
   "metadata": {},
   "outputs": [
    {
     "data": {
      "text/plain": [
       "<matplotlib.image.AxesImage at 0x7f5d4598d540>"
      ]
     },
     "execution_count": 40,
     "metadata": {},
     "output_type": "execute_result"
    },
    {
     "data": {
      "image/png": "[encoded data removed]",
      "text/plain": [
       "<Figure size 640x480 with 1 Axes>"
      ]
     },
     "metadata": {},
     "output_type": "display_data"
    }
   ],
   "source": [
    "import matplotlib\n",
    "import matplotlib.pyplot as plt\n",
    "import numpy as np\n",
    "\n",
    "digit = np.array(X.iloc[12345]).reshape(28, 28)\n",
    "\n",
    "plt.imshow(digit, cmap=matplotlib.cm.binary)"
   ]
  },
  {
   "cell_type": "markdown",
   "id": "60921693-c176-45da-b3f7-4222bbcb7e38",
   "metadata": {},
   "source": [
    "# Split test and validation data\n",
    "\n",
    "Its important to split the data into a test and a training dataset. The first 60k images will ne used for training and the last 10k for validation."
   ]
  },
  {
   "cell_type": "code",
   "execution_count": 43,
   "id": "76302b06-f5dd-4035-b48c-8804df78699f",
   "metadata": {},
   "outputs": [],
   "source": [
    "X_train, X_validation = X.iloc[:60_000], X.iloc[60_000:]\n",
    "Y_train, Y_validation = Y.iloc[:60_000], Y.iloc[60_000:]\n",
    "\n",
    "# Delete the old datasets in order to prevent me from using them accidentally\n",
    "del X, Y"
   ]
  },
  {
   "cell_type": "code",
   "execution_count": null,
   "id": "17de0b4a-90f1-41e1-ba8d-d9ff040bd940",
   "metadata": {},
   "outputs": [],
   "source": []
  }
 ],
 "metadata": {
  "kernelspec": {
   "display_name": "Python 3 (ipykernel)",
   "language": "python",
   "name": "python3"
  },
  "language_info": {
   "codemirror_mode": {
    "name": "ipython",
    "version": 3
   },
   "file_extension": ".py",
   "mimetype": "text/x-python",
   "name": "python",
   "nbconvert_exporter": "python",
   "pygments_lexer": "ipython3",
   "version": "3.10.12"
  }
 },
 "nbformat": 4,
 "nbformat_minor": 5
}
