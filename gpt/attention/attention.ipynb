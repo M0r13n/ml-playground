{
 "cells": [
  {
   "cell_type": "code",
   "execution_count": 1,
   "id": "66f0957c-3649-48b3-b6f1-f404bd4b1b51",
   "metadata": {},
   "outputs": [],
   "source": [
    "import torch\n",
    "\n",
    "inputs = torch.tensor(\n",
    "  [[0.43, 0.15, 0.89], # Your     (x^1)\n",
    "   [0.55, 0.87, 0.66], # journey  (x^2)\n",
    "   [0.57, 0.85, 0.64], # starts   (x^3)\n",
    "   [0.22, 0.58, 0.33], # with     (x^4)\n",
    "   [0.77, 0.25, 0.10], # one      (x^5)\n",
    "   [0.05, 0.80, 0.55]] # step     (x^6)\n",
    ")"
   ]
  },
  {
   "cell_type": "code",
   "execution_count": 2,
   "id": "01feeb54-2695-4f22-ac1d-516e7911e5cb",
   "metadata": {},
   "outputs": [],
   "source": [
    "query = inputs[1]  # journey"
   ]
  },
  {
   "cell_type": "code",
   "execution_count": 3,
   "id": "f6d57fdd-29d1-458f-af69-d3daaaaf3917",
   "metadata": {},
   "outputs": [],
   "source": [
    "# This is the naive (and slow) way to compute the attention scores\n",
    "attention_scores = torch.empty(6)\n",
    "\n",
    "def dot_product(x, y):\n",
    "    s = 0\n",
    "    for a,b in zip(x,y):\n",
    "        s+= a * b\n",
    "    return s\n",
    "\n",
    "for i,v in enumerate(inputs):\n",
    "    attention_scores[i] = dot_product(query, v)"
   ]
  },
  {
   "cell_type": "code",
   "execution_count": 4,
   "id": "b7935610-30cf-44ef-b016-1f5359cd073f",
   "metadata": {},
   "outputs": [
    {
     "name": "stdout",
     "output_type": "stream",
     "text": [
      "tensor([0.9544, 1.4950, 1.4754, 0.8434, 0.7070, 1.0865])\n"
     ]
    }
   ],
   "source": [
    "print(attention_scores)"
   ]
  },
  {
   "cell_type": "code",
   "execution_count": 5,
   "id": "d3b9376b-3dae-4118-81e5-b216433c09af",
   "metadata": {},
   "outputs": [
    {
     "name": "stdout",
     "output_type": "stream",
     "text": [
      "tensor([0.9544, 1.4950, 1.4754, 0.8434, 0.7070, 1.0865])\n"
     ]
    }
   ],
   "source": [
    "# The better way to do it using pytorch\n",
    "attention_scores = torch.empty(inputs.shape[0])\n",
    "for i, x_i in enumerate(inputs):\n",
    "    attention_scores[i] = torch.dot(x_i, query) # dot product (transpose not necessary here since they are 1-dim vectors)\n",
    "\n",
    "print(attention_scores)"
   ]
  },
  {
   "cell_type": "markdown",
   "id": "77ada015-5ec7-47c4-b8a5-db5fa6f6b5d7",
   "metadata": {},
   "source": [
    "**The dot product essentially measures the the similarity of two vectors**"
   ]
  },
  {
   "cell_type": "code",
   "execution_count": 6,
   "id": "d5e9b098-5bf6-43cf-b2d9-6788da2f7d03",
   "metadata": {
    "scrolled": true
   },
   "outputs": [
    {
     "name": "stdout",
     "output_type": "stream",
     "text": [
      "tensor([0.1455, 0.2278, 0.2249, 0.1285, 0.1077, 0.1656]) tensor(1.0000)\n"
     ]
    }
   ],
   "source": [
    "# Normalize all scores, so that their sum is 1 (naive)\n",
    "\n",
    "attention_weights = torch.empty(6)\n",
    "total_sum = attention_scores.sum()\n",
    "for i, score in enumerate(attention_scores):\n",
    "    attention_weights[i] = score / total_sum\n",
    "\n",
    "print(attention_weights, sum(attention_weights))"
   ]
  },
  {
   "cell_type": "code",
   "execution_count": 7,
   "id": "f8307d09-2117-45b0-9903-46ab178f75c5",
   "metadata": {},
   "outputs": [
    {
     "name": "stdout",
     "output_type": "stream",
     "text": [
      "tensor([0.1455, 0.2278, 0.2249, 0.1285, 0.1077, 0.1656]) tensor(1.)\n"
     ]
    }
   ],
   "source": [
    "# The same, but more idiomatic\n",
    "attention_weights = attention_scores / attention_scores.sum()\n",
    "print(attention_weights, attention_weights.sum())"
   ]
  },
  {
   "cell_type": "code",
   "execution_count": 8,
   "id": "7202c0e5-502f-4902-b555-1b948cda065b",
   "metadata": {},
   "outputs": [
    {
     "name": "stdout",
     "output_type": "stream",
     "text": [
      "tensor([0.1385, 0.2379, 0.2333, 0.1240, 0.1082, 0.1581])\n",
      "tensor([0.1385, 0.2379, 0.2333, 0.1240, 0.1082, 0.1581])\n"
     ]
    }
   ],
   "source": [
    "# In practise, softmax is used instead\n",
    "\n",
    "# Naive:\n",
    "def softmax(x):\n",
    "    # e ^ x / sum(e ^ x)\n",
    "    return torch.exp(x) / torch.exp(x).sum()\n",
    "\n",
    "print(softmax(attention_scores))\n",
    "\n",
    "# Idiomatic\n",
    "attention_weights = torch.softmax(attention_scores, dim=0)\n",
    "print(attention_weights)\n"
   ]
  },
  {
   "cell_type": "code",
   "execution_count": 9,
   "id": "39dd8f3a-3e6c-4dba-8ac5-3c2ea2b35be1",
   "metadata": {},
   "outputs": [
    {
     "name": "stdout",
     "output_type": "stream",
     "text": [
      "tensor([0.4419, 0.6515, 0.5683])\n"
     ]
    }
   ],
   "source": [
    "# The context vector z is the *weighted* sum of all input vectors, obtained by multiplying each input vector by its corresponding attention weight\n",
    "\n",
    "# naive\n",
    "context_vector = torch.zeros(3)\n",
    "for x, a in zip(inputs, attention_weights):\n",
    "    context_vector = context_vector + x * a\n",
    "print(context_vector)"
   ]
  },
  {
   "cell_type": "markdown",
   "id": "6fbace83-e057-4ad2-bada-5eec79dd066f",
   "metadata": {},
   "source": [
    "Now, compute the attention weights for all input vectors. Pseudocode:\n",
    "\n",
    "```py\n",
    "for each input vector v:\n",
    "    compute attention scores as the dot product between v and all input vectors\n",
    "    compute the attention weights by normalizing the attention scores using softmax\n",
    "    compute the context vector as the weighted sum over the inputs\n",
    "```"
   ]
  },
  {
   "cell_type": "code",
   "execution_count": 13,
   "id": "ba572bca-e5ab-4d6a-947e-458b24053227",
   "metadata": {},
   "outputs": [
    {
     "name": "stdout",
     "output_type": "stream",
     "text": [
      "Inputs:\n",
      "tensor([[0.4300, 0.1500, 0.8900],\n",
      "        [0.5500, 0.8700, 0.6600],\n",
      "        [0.5700, 0.8500, 0.6400],\n",
      "        [0.2200, 0.5800, 0.3300],\n",
      "        [0.7700, 0.2500, 0.1000],\n",
      "        [0.0500, 0.8000, 0.5500]])\n",
      "Attention weights:\n",
      "tensor([[0.2098, 0.2006, 0.1981, 0.1242, 0.1220, 0.1452],\n",
      "        [0.1385, 0.2379, 0.2333, 0.1240, 0.1082, 0.1581],\n",
      "        [0.1390, 0.2369, 0.2326, 0.1242, 0.1108, 0.1565],\n",
      "        [0.1435, 0.2074, 0.2046, 0.1462, 0.1263, 0.1720],\n",
      "        [0.1526, 0.1958, 0.1975, 0.1367, 0.1879, 0.1295],\n",
      "        [0.1385, 0.2184, 0.2128, 0.1420, 0.0988, 0.1896]])\n",
      "Context vectors:\n",
      "tensor([[0.4421, 0.5931, 0.5790],\n",
      "        [0.4419, 0.6515, 0.5683],\n",
      "        [0.4431, 0.6496, 0.5671],\n",
      "        [0.4304, 0.6298, 0.5510],\n",
      "        [0.4671, 0.5910, 0.5266],\n",
      "        [0.4177, 0.6503, 0.5645]])\n",
      "tensor([[0.4421, 0.5931, 0.5790],\n",
      "        [0.4419, 0.6515, 0.5683],\n",
      "        [0.4431, 0.6496, 0.5671],\n",
      "        [0.4304, 0.6298, 0.5510],\n",
      "        [0.4671, 0.5910, 0.5266],\n",
      "        [0.4177, 0.6503, 0.5645]])\n"
     ]
    }
   ],
   "source": [
    "# m x n matrix, where m = n = number of input vectors\n",
    "attention_weights = torch.empty([inputs.shape[0], inputs.shape[0]])\n",
    "\n",
    "# Compute the attention weights row-wise\n",
    "for i, v in enumerate(inputs):\n",
    "    # torch.matmul(inputs, v) multiplies each row of inputs with v and computes the dot product\n",
    "    attention_scores = torch.matmul(inputs, v)\n",
    "    attention_weights[i] = torch.softmax(attention_scores, dim=0)\n",
    "\n",
    "print('Inputs:\\n', inputs, sep='')\n",
    "print('Attention weights:\\n', attention_weights, sep='')\n",
    "\n",
    "\n",
    "# Compute the context vector\n",
    "context_vectors = torch.empty(inputs.shape)\n",
    "for i in range(inputs.shape[0]):\n",
    "    context_vector = torch.zeros(inputs.shape[1])\n",
    "    weights = attention_weights[i]\n",
    "    for v,a in zip(inputs, weights):\n",
    "        context_vector = context_vector + v * a\n",
    "    context_vectors[i] = context_vector\n",
    "\n",
    "print('Context vectors:')\n",
    "print(context_vectors)\n",
    "\n",
    "# or shorter\n",
    "print(attention_weights @ inputs)\n",
    "    \n"
   ]
  },
  {
   "cell_type": "code",
   "execution_count": null,
   "id": "8aa4ffea-8d2f-4a62-a5a7-9978fc6ae155",
   "metadata": {},
   "outputs": [],
   "source": []
  },
  {
   "cell_type": "code",
   "execution_count": null,
   "id": "e3233462-c8fa-4d0a-9238-f551a91b7876",
   "metadata": {},
   "outputs": [],
   "source": []
  },
  {
   "cell_type": "code",
   "execution_count": null,
   "id": "d43b293c-b757-47ff-a8fd-8ab0233a7990",
   "metadata": {},
   "outputs": [],
   "source": []
  }
 ],
 "metadata": {
  "kernelspec": {
   "display_name": "Python 3 (ipykernel)",
   "language": "python",
   "name": "python3"
  },
  "language_info": {
   "codemirror_mode": {
    "name": "ipython",
    "version": 3
   },
   "file_extension": ".py",
   "mimetype": "text/x-python",
   "name": "python",
   "nbconvert_exporter": "python",
   "pygments_lexer": "ipython3",
   "version": "3.12.3"
  }
 },
 "nbformat": 4,
 "nbformat_minor": 5
}
